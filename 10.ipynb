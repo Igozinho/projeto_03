{
 "cells": [
  {
   "cell_type": "code",
   "execution_count": null,
   "metadata": {},
   "outputs": [],
   "source": [
    "#1\n",
    "\n",
    "a = 5\n",
    "b = 9\n",
    "\n",
    "print(a + b)\n",
    "print(a * b)\n"
   ]
  },
  {
   "cell_type": "code",
   "execution_count": null,
   "metadata": {},
   "outputs": [],
   "source": [
    "#2\n",
    "for x in [\"vermelho\", \"verde\", \"amarelo\", \"preto\", \"cinza\"]:\n",
    "    print(x)"
   ]
  },
  {
   "cell_type": "code",
   "execution_count": null,
   "metadata": {},
   "outputs": [],
   "source": [
    "#3\n",
    "\n",
    "Paises = {\n",
    "    \"brasil\":\"brasilia\",\n",
    "    \"estado-unidos\":\"Washington, D.C\",\n",
    "    \"thailandia\":\"Bangkok\",\n",
    "    \"japão\":\"torkyo\",\n",
    "    \"china\":\"Pequim\"\n",
    "}\n",
    "x = Paises[\"brasil\"]\n",
    "print(x)"
   ]
  },
  {
   "cell_type": "code",
   "execution_count": null,
   "metadata": {},
   "outputs": [],
   "source": [
    "#4\n",
    "idade = 16\n",
    "\n",
    "if idade>=18:\n",
    "    print(\"você é de maior!\")\n",
    "else :\n",
    "    print(\"você é de menor!\")"
   ]
  },
  {
   "cell_type": "code",
   "execution_count": null,
   "metadata": {},
   "outputs": [],
   "source": [
    "#5\n",
    "\n",
    "horas = 23\n",
    "\n",
    "if horas >= 00 and horas < 6:\n",
    "    print(\"boa madruga\")\n",
    "elif horas >= 6 and horas <= 11:\n",
    "    print(\"bom dia\")\n",
    "elif horas >= 12 and horas <= 17:\n",
    "    print(\"boa tarde\")\n",
    "elif horas >= 18 and horas <= 23:\n",
    "    print(\"boa noite\")\n",
    "else:\n",
    "    print(\"horario nao definido\")\n",
    "    "
   ]
  },
  {
   "cell_type": "code",
   "execution_count": null,
   "metadata": {},
   "outputs": [],
   "source": [
    "#6\n",
    "x = 1\n",
    "while x<=5:\n",
    "    print(x)\n",
    "    x = x + 1"
   ]
  },
  {
   "cell_type": "code",
   "execution_count": null,
   "metadata": {},
   "outputs": [],
   "source": [
    "#7\n",
    "for z in range (0, 35, 2):\n",
    "    print(z)"
   ]
  },
  {
   "cell_type": "code",
   "execution_count": 27,
   "metadata": {},
   "outputs": [
    {
     "name": "stdout",
     "output_type": "stream",
     "text": [
      "('maracuja', 'banana')\n",
      "maracuja\n",
      "banana\n"
     ]
    }
   ],
   "source": [
    "#8\n",
    "lista = [\"maracuja\",\"uva\",\"limão\",\"banana\"]\n",
    "x = lista[0], lista[3]\n",
    "print(x)\n",
    "\n",
    "print(lista[0])\n",
    "print(lista[3])"
   ]
  },
  {
   "cell_type": "code",
   "execution_count": null,
   "metadata": {},
   "outputs": [],
   "source": [
    "#9\n",
    "for x in range (1,11):\n",
    "    print(x)"
   ]
  },
  {
   "cell_type": "code",
   "execution_count": 30,
   "metadata": {},
   "outputs": [
    {
     "ename": "NameError",
     "evalue": "name 'gato' is not defined",
     "output_type": "error",
     "traceback": [
      "\u001b[1;31m---------------------------------------------------------------------------\u001b[0m",
      "\u001b[1;31mNameError\u001b[0m                                 Traceback (most recent call last)",
      "\u001b[1;32mc:\\Users\\Alunos\\Documents\\GitHub\\LogicaProgamacao\\atividades\\10.ipynb Célula 10\u001b[0m line \u001b[0;36m3\n\u001b[0;32m      <a href='vscode-notebook-cell:/c%3A/Users/Alunos/Documents/GitHub/LogicaProgamacao/atividades/10.ipynb#X21sZmlsZQ%3D%3D?line=0'>1</a>\u001b[0m \u001b[39m#10\u001b[39;00m\n\u001b[0;32m      <a href='vscode-notebook-cell:/c%3A/Users/Alunos/Documents/GitHub/LogicaProgamacao/atividades/10.ipynb#X21sZmlsZQ%3D%3D?line=1'>2</a>\u001b[0m lista_animal \u001b[39m=\u001b[39m [\u001b[39m\"\u001b[39m\u001b[39mtatu\u001b[39m\u001b[39m\"\u001b[39m,\u001b[39m\"\u001b[39m\u001b[39mleão\u001b[39m\u001b[39m\"\u001b[39m,\u001b[39m\"\u001b[39m\u001b[39mgato\u001b[39m\u001b[39m\"\u001b[39m,\u001b[39m\"\u001b[39m\u001b[39mjacare\u001b[39m\u001b[39m\"\u001b[39m,\u001b[39m\"\u001b[39m\u001b[39mpeixe\u001b[39m\u001b[39m\"\u001b[39m]\n\u001b[1;32m----> <a href='vscode-notebook-cell:/c%3A/Users/Alunos/Documents/GitHub/LogicaProgamacao/atividades/10.ipynb#X21sZmlsZQ%3D%3D?line=2'>3</a>\u001b[0m \u001b[39mif\u001b[39;00m lista_animal \u001b[39m==\u001b[39m gato:\n\u001b[0;32m      <a href='vscode-notebook-cell:/c%3A/Users/Alunos/Documents/GitHub/LogicaProgamacao/atividades/10.ipynb#X21sZmlsZQ%3D%3D?line=3'>4</a>\u001b[0m     \u001b[39mprint\u001b[39m( \u001b[39m\"\u001b[39m\u001b[39mtem um gato na lista animal\u001b[39m\u001b[39m\"\u001b[39m)\n\u001b[0;32m      <a href='vscode-notebook-cell:/c%3A/Users/Alunos/Documents/GitHub/LogicaProgamacao/atividades/10.ipynb#X21sZmlsZQ%3D%3D?line=4'>5</a>\u001b[0m \u001b[39melse\u001b[39;00m:\n",
      "\u001b[1;31mNameError\u001b[0m: name 'gato' is not defined"
     ]
    }
   ],
   "source": [
    "#10\n",
    "lista_animal = [\"tatu\",\"leão\",\"gato\",\"jacare\",\"peixe\"]\n",
    "if lista_animal == \"gato\":\n",
    "    print( \"tem um gato na lista animal\")\n",
    "else:\n",
    "    print(\"Não tem gato na lista animal\")"
   ]
  }
 ],
 "metadata": {
  "kernelspec": {
   "display_name": "Python 3",
   "language": "python",
   "name": "python3"
  },
  "language_info": {
   "codemirror_mode": {
    "name": "ipython",
    "version": 3
   },
   "file_extension": ".py",
   "mimetype": "text/x-python",
   "name": "python",
   "nbconvert_exporter": "python",
   "pygments_lexer": "ipython3",
   "version": "3.12.0"
  }
 },
 "nbformat": 4,
 "nbformat_minor": 2
}
